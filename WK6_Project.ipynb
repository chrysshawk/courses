{
  "nbformat": 4,
  "nbformat_minor": 0,
  "metadata": {
    "colab": {
      "name": "WK6 - Project.ipynb",
      "provenance": [],
      "collapsed_sections": [],
      "authorship_tag": "ABX9TyOxPAJBz4N6bIey5Ivyx0XF"
    },
    "kernelspec": {
      "name": "python3",
      "display_name": "Python 3"
    }
  },
  "cells": [
    {
      "cell_type": "markdown",
      "metadata": {
        "id": "52ooaCXIkSVT"
      },
      "source": [
        "##Project Case Scenario: Boston Housing"
      ]
    },
    {
      "cell_type": "markdown",
      "metadata": {
        "id": "ccdKPwDLkzyk"
      },
      "source": [
        "The following describes the dataset variables:\n",
        "- CRIM - per capita crime rate by town\n",
        "- ZN - proportion of residential land zoned for lots over 25,000 sq.ft.\n",
        "- INDUS - proportion of non-retail business acres per town.\n",
        "- CHAS - Charles River dummy variable (1 if tract bounds river; 0 otherwise)\n",
        "- NOX - nitric oxides concentration (parts per 10 million)\n",
        "- RM - average number of rooms per dwelling\n",
        "- AGE - proportion of owner-occupied units built prior to 1940\n",
        "- DIS - weighted distances to five Boston employment centres\n",
        "- RAD - index of accessibility to radial highways\n",
        "- TAX - full-value property-tax rate per $10000\n",
        "\n",
        "- PT RATIO  pupil-teacher ratio by town. \n",
        "- LSTAT - % lower status of the population\n",
        "- MEDV - the Median value of owner occupied homes in $1000s"
      ]
    },
    {
      "cell_type": "code",
      "metadata": {
        "id": "PR1pRRAskzlJ"
      },
      "source": [
        "# Defining imports\n",
        "import pandas as pd\n",
        "import numpy as np\n",
        "import matplotlib.pyplot as plt\n",
        "import seaborn as sns\n",
        "import scipy.stats\n",
        "import statsmodels.api as sm\n",
        "from statsmodels.formula.api import ols"
      ],
      "execution_count": 63,
      "outputs": []
    },
    {
      "cell_type": "code",
      "metadata": {
        "id": "HFip6ZbCkwPW"
      },
      "source": [
        "boston_url = 'https://cf-courses-data.s3.us.cloud-object-storage.appdomain.cloud/IBMDeveloperSkillsNetwork-ST0151EN-SkillsNetwork/labs/boston_housing.csv'\n",
        "boston_df = pd.read_csv(boston_url)"
      ],
      "execution_count": 2,
      "outputs": []
    },
    {
      "cell_type": "markdown",
      "metadata": {
        "id": "wwj2nvvaFJZx"
      },
      "source": [
        "##Task 4: Generate Descriptive Statistics and Visualizations"
      ]
    },
    {
      "cell_type": "code",
      "metadata": {
        "id": "a36uonzWIWnW"
      },
      "source": [
        "# Removing irrelevant column\n",
        "boston_df.drop('Unnamed: 0', axis=1, inplace=True)"
      ],
      "execution_count": 4,
      "outputs": []
    },
    {
      "cell_type": "code",
      "metadata": {
        "colab": {
          "base_uri": "https://localhost:8080/",
          "height": 287
        },
        "id": "sjz857-GI8Rn",
        "outputId": "f60b2242-425c-4a3c-9b76-e65e964786ed"
      },
      "source": [
        "# Checking basic statistics\n",
        "boston_df.describe()"
      ],
      "execution_count": 5,
      "outputs": [
        {
          "output_type": "execute_result",
          "data": {
            "text/html": [
              "<div>\n",
              "<style scoped>\n",
              "    .dataframe tbody tr th:only-of-type {\n",
              "        vertical-align: middle;\n",
              "    }\n",
              "\n",
              "    .dataframe tbody tr th {\n",
              "        vertical-align: top;\n",
              "    }\n",
              "\n",
              "    .dataframe thead th {\n",
              "        text-align: right;\n",
              "    }\n",
              "</style>\n",
              "<table border=\"1\" class=\"dataframe\">\n",
              "  <thead>\n",
              "    <tr style=\"text-align: right;\">\n",
              "      <th></th>\n",
              "      <th>CRIM</th>\n",
              "      <th>ZN</th>\n",
              "      <th>INDUS</th>\n",
              "      <th>CHAS</th>\n",
              "      <th>NOX</th>\n",
              "      <th>RM</th>\n",
              "      <th>AGE</th>\n",
              "      <th>DIS</th>\n",
              "      <th>RAD</th>\n",
              "      <th>TAX</th>\n",
              "      <th>PTRATIO</th>\n",
              "      <th>LSTAT</th>\n",
              "      <th>MEDV</th>\n",
              "    </tr>\n",
              "  </thead>\n",
              "  <tbody>\n",
              "    <tr>\n",
              "      <th>count</th>\n",
              "      <td>506.000000</td>\n",
              "      <td>506.000000</td>\n",
              "      <td>506.000000</td>\n",
              "      <td>506.000000</td>\n",
              "      <td>506.000000</td>\n",
              "      <td>506.000000</td>\n",
              "      <td>506.000000</td>\n",
              "      <td>506.000000</td>\n",
              "      <td>506.000000</td>\n",
              "      <td>506.000000</td>\n",
              "      <td>506.000000</td>\n",
              "      <td>506.000000</td>\n",
              "      <td>506.000000</td>\n",
              "    </tr>\n",
              "    <tr>\n",
              "      <th>mean</th>\n",
              "      <td>3.613524</td>\n",
              "      <td>11.363636</td>\n",
              "      <td>11.136779</td>\n",
              "      <td>0.069170</td>\n",
              "      <td>0.554695</td>\n",
              "      <td>6.284634</td>\n",
              "      <td>68.574901</td>\n",
              "      <td>3.795043</td>\n",
              "      <td>9.549407</td>\n",
              "      <td>408.237154</td>\n",
              "      <td>18.455534</td>\n",
              "      <td>12.653063</td>\n",
              "      <td>22.532806</td>\n",
              "    </tr>\n",
              "    <tr>\n",
              "      <th>std</th>\n",
              "      <td>8.601545</td>\n",
              "      <td>23.322453</td>\n",
              "      <td>6.860353</td>\n",
              "      <td>0.253994</td>\n",
              "      <td>0.115878</td>\n",
              "      <td>0.702617</td>\n",
              "      <td>28.148861</td>\n",
              "      <td>2.105710</td>\n",
              "      <td>8.707259</td>\n",
              "      <td>168.537116</td>\n",
              "      <td>2.164946</td>\n",
              "      <td>7.141062</td>\n",
              "      <td>9.197104</td>\n",
              "    </tr>\n",
              "    <tr>\n",
              "      <th>min</th>\n",
              "      <td>0.006320</td>\n",
              "      <td>0.000000</td>\n",
              "      <td>0.460000</td>\n",
              "      <td>0.000000</td>\n",
              "      <td>0.385000</td>\n",
              "      <td>3.561000</td>\n",
              "      <td>2.900000</td>\n",
              "      <td>1.129600</td>\n",
              "      <td>1.000000</td>\n",
              "      <td>187.000000</td>\n",
              "      <td>12.600000</td>\n",
              "      <td>1.730000</td>\n",
              "      <td>5.000000</td>\n",
              "    </tr>\n",
              "    <tr>\n",
              "      <th>25%</th>\n",
              "      <td>0.082045</td>\n",
              "      <td>0.000000</td>\n",
              "      <td>5.190000</td>\n",
              "      <td>0.000000</td>\n",
              "      <td>0.449000</td>\n",
              "      <td>5.885500</td>\n",
              "      <td>45.025000</td>\n",
              "      <td>2.100175</td>\n",
              "      <td>4.000000</td>\n",
              "      <td>279.000000</td>\n",
              "      <td>17.400000</td>\n",
              "      <td>6.950000</td>\n",
              "      <td>17.025000</td>\n",
              "    </tr>\n",
              "    <tr>\n",
              "      <th>50%</th>\n",
              "      <td>0.256510</td>\n",
              "      <td>0.000000</td>\n",
              "      <td>9.690000</td>\n",
              "      <td>0.000000</td>\n",
              "      <td>0.538000</td>\n",
              "      <td>6.208500</td>\n",
              "      <td>77.500000</td>\n",
              "      <td>3.207450</td>\n",
              "      <td>5.000000</td>\n",
              "      <td>330.000000</td>\n",
              "      <td>19.050000</td>\n",
              "      <td>11.360000</td>\n",
              "      <td>21.200000</td>\n",
              "    </tr>\n",
              "    <tr>\n",
              "      <th>75%</th>\n",
              "      <td>3.677082</td>\n",
              "      <td>12.500000</td>\n",
              "      <td>18.100000</td>\n",
              "      <td>0.000000</td>\n",
              "      <td>0.624000</td>\n",
              "      <td>6.623500</td>\n",
              "      <td>94.075000</td>\n",
              "      <td>5.188425</td>\n",
              "      <td>24.000000</td>\n",
              "      <td>666.000000</td>\n",
              "      <td>20.200000</td>\n",
              "      <td>16.955000</td>\n",
              "      <td>25.000000</td>\n",
              "    </tr>\n",
              "    <tr>\n",
              "      <th>max</th>\n",
              "      <td>88.976200</td>\n",
              "      <td>100.000000</td>\n",
              "      <td>27.740000</td>\n",
              "      <td>1.000000</td>\n",
              "      <td>0.871000</td>\n",
              "      <td>8.780000</td>\n",
              "      <td>100.000000</td>\n",
              "      <td>12.126500</td>\n",
              "      <td>24.000000</td>\n",
              "      <td>711.000000</td>\n",
              "      <td>22.000000</td>\n",
              "      <td>37.970000</td>\n",
              "      <td>50.000000</td>\n",
              "    </tr>\n",
              "  </tbody>\n",
              "</table>\n",
              "</div>"
            ],
            "text/plain": [
              "             CRIM          ZN       INDUS  ...     PTRATIO       LSTAT        MEDV\n",
              "count  506.000000  506.000000  506.000000  ...  506.000000  506.000000  506.000000\n",
              "mean     3.613524   11.363636   11.136779  ...   18.455534   12.653063   22.532806\n",
              "std      8.601545   23.322453    6.860353  ...    2.164946    7.141062    9.197104\n",
              "min      0.006320    0.000000    0.460000  ...   12.600000    1.730000    5.000000\n",
              "25%      0.082045    0.000000    5.190000  ...   17.400000    6.950000   17.025000\n",
              "50%      0.256510    0.000000    9.690000  ...   19.050000   11.360000   21.200000\n",
              "75%      3.677082   12.500000   18.100000  ...   20.200000   16.955000   25.000000\n",
              "max     88.976200  100.000000   27.740000  ...   22.000000   37.970000   50.000000\n",
              "\n",
              "[8 rows x 13 columns]"
            ]
          },
          "metadata": {
            "tags": []
          },
          "execution_count": 5
        }
      ]
    },
    {
      "cell_type": "code",
      "metadata": {
        "id": "C4l41HyCM49q"
      },
      "source": [
        "# Setting Seaborn defaults\n",
        "sns.set(style=\"whitegrid\")"
      ],
      "execution_count": 6,
      "outputs": []
    },
    {
      "cell_type": "markdown",
      "metadata": {
        "id": "o49IgPznHfR9"
      },
      "source": [
        "###For the \"Median value of owner-occupied homes\" provide a boxplot"
      ]
    },
    {
      "cell_type": "code",
      "metadata": {
        "colab": {
          "base_uri": "https://localhost:8080/",
          "height": 510
        },
        "id": "oqnYvv6AJ928",
        "outputId": "fcfa4c99-1436-4687-e68d-33261cf16348"
      },
      "source": [
        "fig = plt.figure(figsize=(6,8))\n",
        "ax = sns.boxplot(y='MEDV', data=boston_df)\n",
        "plt.title('Median value of owner-occupied homes', size=16)\n",
        "plt.ylabel('Median value in $1.000')\n",
        "plt.xlabel('Owner occupied homes')\n",
        "plt.show()"
      ],
      "execution_count": 54,
      "outputs": [
        {
          "output_type": "display_data",
          "data": {
            "image/png": "[encoded data removed]",
            "text/plain": [
              "<Figure size 432x576 with 1 Axes>"
            ]
          },
          "metadata": {
            "tags": []
          }
        }
      ]
    },
    {
      "cell_type": "markdown",
      "metadata": {
        "id": "6tUzL03uQEFi"
      },
      "source": [
        "Our findings indicate the median value tends to fall between approx 17.000-25.000 dollars, although there is a significant variance between the median values of the owner-occupied homes."
      ]
    },
    {
      "cell_type": "markdown",
      "metadata": {
        "id": "vPLIB5nbNFyV"
      },
      "source": [
        "###Provide a histogram for the Charles river variable"
      ]
    },
    {
      "cell_type": "code",
      "metadata": {
        "colab": {
          "base_uri": "https://localhost:8080/",
          "height": 400
        },
        "id": "mI_wa0ldH2Wr",
        "outputId": "dfcb7567-b6ba-4142-9c2f-7ec20a248b76"
      },
      "source": [
        "sns.catplot(x='CHAS', kind='count', data=boston_df)\n",
        "plt.title('Histogram of Charles River', size=16)\n",
        "plt.xlabel('1 if tract bounds river; 0 otherwise')\n",
        "plt.show()"
      ],
      "execution_count": 17,
      "outputs": [
        {
          "output_type": "display_data",
          "data": {
            "image/png": "[encoded data removed]",
            "text/plain": [
              "<Figure size 360x360 with 1 Axes>"
            ]
          },
          "metadata": {
            "tags": []
          }
        }
      ]
    },
    {
      "cell_type": "markdown",
      "metadata": {
        "id": "RqMF2uDFQndH"
      },
      "source": [
        "Our findings show what most of the observations are not adjacent to the Charles river, and only a very small part (approx 30) are adjacent."
      ]
    },
    {
      "cell_type": "markdown",
      "metadata": {
        "id": "MGYzettaPq3b"
      },
      "source": [
        "###Provide a boxplot for the MEDV variable vs the AGE variable. (Discretize the age variable into three groups of 35 years and younger, between 35 and 70 years and 70 years and older)"
      ]
    },
    {
      "cell_type": "code",
      "metadata": {
        "id": "HSJi8civQw8q"
      },
      "source": [
        "# Step 1: Create AGE_GROUP category\n",
        "\n",
        "# Note: The suggested group names are senseless since the AGE variable is a proportion\n",
        "# Below we use sensible names instead\n",
        "boston_df.loc[(boston_df['AGE'] <= 35), 'AGE_GROUP'] = '35% and below'\n",
        "boston_df.loc[(boston_df['AGE'] > 35) & (boston_df['AGE'] < 70), 'AGE_GROUP'] = '35% to 70%'\n",
        "boston_df.loc[(boston_df['AGE'] >= 70), 'AGE_GROUP'] = '70% and above'"
      ],
      "execution_count": 86,
      "outputs": []
    },
    {
      "cell_type": "code",
      "metadata": {
        "colab": {
          "base_uri": "https://localhost:8080/",
          "height": 581
        },
        "id": "9O64cIiMQHYg",
        "outputId": "e22b0fed-58be-44d2-8f99-b0b9b4c6742a"
      },
      "source": [
        "# Step 2: Plot\n",
        "fig = plt.figure(figsize=(10,8))\n",
        "ax = sns.boxplot(y='MEDV', x='AGE_GROUP', data=boston_df, \n",
        "                 order=['35% and below', '35% to 70%',\n",
        "                        '70% and above'])\n",
        "plt.title('Median value of owner-occupied homes per age group', size=16)\n",
        "plt.ylabel('Median value in $1.000')\n",
        "plt.xlabel('Age group')\n",
        "plt.tight_layout()\n",
        "plt.show()"
      ],
      "execution_count": 87,
      "outputs": [
        {
          "output_type": "display_data",
          "data": {
            "image/png": "[encoded data removed]",
            "text/plain": [
              "<Figure size 720x576 with 1 Axes>"
            ]
          },
          "metadata": {
            "tags": []
          }
        }
      ]
    },
    {
      "cell_type": "markdown",
      "metadata": {
        "id": "LaHGCNQRQ6ck"
      },
      "source": [
        "We can see that the age of the homes have an effect on the median value; the homes with the least proportion built before 1940 have a higher median value than the rest, and the greater the proportion of houses build before 1940, the lower the median values."
      ]
    },
    {
      "cell_type": "markdown",
      "metadata": {
        "id": "Y13iNEmEP6Ip"
      },
      "source": [
        "###Provide a scatter plot to show the relationship between Nitric oxide concentrations and the proportion of non-retail business acres per town. What can you say about the relationship?"
      ]
    },
    {
      "cell_type": "code",
      "metadata": {
        "colab": {
          "base_uri": "https://localhost:8080/",
          "height": 520
        },
        "id": "zY1VfSU7VGhM",
        "outputId": "346cef57-0637-4282-f9af-d766e1f7b31d"
      },
      "source": [
        "fig = plt.figure(figsize=(12,8))\n",
        "ax = sns.scatterplot(x='INDUS', y='NOX', data=boston_df)\n",
        "plt.title('Nitric Oxide Levels vs Proportion of non-retail business acres', size=16)\n",
        "plt.xlabel('Proportion of non-retail business acres')\n",
        "plt.ylabel('Nitric Oxide Levels')\n",
        "plt.show()"
      ],
      "execution_count": 15,
      "outputs": [
        {
          "output_type": "display_data",
          "data": {
            "image/png": "[encoded data removed]",
            "text/plain": [
              "<Figure size 864x576 with 1 Axes>"
            ]
          },
          "metadata": {
            "tags": []
          }
        }
      ]
    },
    {
      "cell_type": "markdown",
      "metadata": {
        "id": "_8nnzqhpV9kl"
      },
      "source": [
        "Given the above, we can see a positively correlated relationship between the nitric oxide levels and the proportion of non-retail business acres."
      ]
    },
    {
      "cell_type": "markdown",
      "metadata": {
        "id": "dfG4PPLhP5Lq"
      },
      "source": [
        "###Create a histogram for the pupil to teacher ratio variable"
      ]
    },
    {
      "cell_type": "code",
      "metadata": {
        "colab": {
          "base_uri": "https://localhost:8080/",
          "height": 453
        },
        "id": "s03-yuw7XbYT",
        "outputId": "9d26d0a5-653b-4954-a8d1-fb5cb0edb290"
      },
      "source": [
        "fig = sns.displot(boston_df['PTRATIO'], kde = False, height=6, aspect=2, bins=8)\n",
        "plt.title('Histogram of Pupil to Teacher Ratio', size=16)\n",
        "plt.xlabel('Pupil to Teacher Ratio')\n",
        "plt.ylabel('Frequency')\n",
        "plt.show()"
      ],
      "execution_count": 92,
      "outputs": [
        {
          "output_type": "display_data",
          "data": {
            "image/png": "[encoded data removed]",
            "text/plain": [
              "<Figure size 864x432 with 1 Axes>"
            ]
          },
          "metadata": {
            "tags": []
          }
        }
      ]
    },
    {
      "cell_type": "markdown",
      "metadata": {
        "id": "ftPlYX6pRsu_"
      },
      "source": [
        "We can see the pupil to teacher ratio varies in frequency, but the distribution is right skewed with a greater frequency in the ratio of 20 students per teacher."
      ]
    },
    {
      "cell_type": "markdown",
      "metadata": {
        "id": "EcmQU1VIFbiW"
      },
      "source": [
        "##Task 5: Use the appropriate tests to answer the questions provided"
      ]
    },
    {
      "cell_type": "markdown",
      "metadata": {
        "id": "4WFd-aEun7bU"
      },
      "source": [
        "###Is there a significant difference in median value of houses bounded by the Charles river or not? (T-test for independent samples)\n"
      ]
    },
    {
      "cell_type": "markdown",
      "metadata": {
        "id": "dfnpGAnboqTh"
      },
      "source": [
        "**Hypothesis:**\n",
        "- Null Hypothesis (H0): There is no significant difference in median value of houses bounded by the Charles River\n",
        "- Alternative Hypothesis (H1): There is significant difference in median value of houses bounded by the Charles River"
      ]
    },
    {
      "cell_type": "code",
      "metadata": {
        "colab": {
          "base_uri": "https://localhost:8080/"
        },
        "id": "DvzmrZZXFnw2",
        "outputId": "4bc066c0-6238-45a3-b714-8b05534bc6b1"
      },
      "source": [
        "# Step 1: Apply Levene's test to check for homogeneity of variance\n",
        "scipy.stats.levene(boston_df[boston_df['CHAS'] == 0]['MEDV'],\n",
        "                   boston_df[boston_df['CHAS'] == 1]['MEDV'],\n",
        "                   center='mean')"
      ],
      "execution_count": 24,
      "outputs": [
        {
          "output_type": "execute_result",
          "data": {
            "text/plain": [
              "LeveneResult(statistic=8.751904896045998, pvalue=0.003238119367639829)"
            ]
          },
          "metadata": {
            "tags": []
          },
          "execution_count": 24
        }
      ]
    },
    {
      "cell_type": "markdown",
      "metadata": {
        "id": "S4dYeKLLtDsC"
      },
      "source": [
        "From Levene's test, we observe the p-value is less than alpha of 0.05, which means we will not assume equality of variance in our below T-test."
      ]
    },
    {
      "cell_type": "code",
      "metadata": {
        "colab": {
          "base_uri": "https://localhost:8080/"
        },
        "id": "7JdK8FCesqG1",
        "outputId": "3eea90f3-7a4e-4913-a210-e6f242855da8"
      },
      "source": [
        "# Step 2: Perform the T-test with equal_var = False\n",
        "scipy.stats.ttest_ind(boston_df[boston_df['CHAS'] == 0]['MEDV'],\n",
        "                                boston_df[boston_df['CHAS'] == 1]['MEDV'],\n",
        "                                equal_var = False)"
      ],
      "execution_count": 29,
      "outputs": [
        {
          "output_type": "execute_result",
          "data": {
            "text/plain": [
              "Ttest_indResult(statistic=-3.113291312794837, pvalue=0.003567170098137517)"
            ]
          },
          "metadata": {
            "tags": []
          },
          "execution_count": 29
        }
      ]
    },
    {
      "cell_type": "markdown",
      "metadata": {
        "id": "1thwvCuGpIdB"
      },
      "source": [
        "**Conclusion:**\n",
        "- We observe the p-value is less than the alpha of 0.05, and therefore reject the Null Hypothesis (H0)\n",
        "- We conclude there is significant different in median value of houses bounded by the Charles River (H1)"
      ]
    },
    {
      "cell_type": "markdown",
      "metadata": {
        "id": "OWC7AzfXoGeX"
      },
      "source": [
        "###Is there a difference in Median values of houses (MEDV) for each proportion of owner occupied units built prior to 1940 (AGE)? (ANOVA)"
      ]
    },
    {
      "cell_type": "markdown",
      "metadata": {
        "id": "oRt0HcFP3tjt"
      },
      "source": [
        "**Hypothesis:**\n",
        "- Null Hypothesis (H0): There is no significant difference in median value of the proportions of houses built prior to 1940\n",
        "- Alternative Hypothesis (H1): There is significant difference in median value of at least one of the proportions of houses built prior to 1940"
      ]
    },
    {
      "cell_type": "code",
      "metadata": {
        "colab": {
          "base_uri": "https://localhost:8080/"
        },
        "id": "hNx8i3cz5CwJ",
        "outputId": "0183da14-d96e-4c62-98bf-f2992d12ef93"
      },
      "source": [
        "# Step 1: Create groups of the data we will compare\n",
        "\n",
        "# Assigning the unique age group values to an ndarray\n",
        "age_groups = boston_df['AGE_GROUP'].unique()\n",
        "print('Groups:', age_groups)\n",
        "\n",
        "# Get the MEDV data per group\n",
        "group1 = boston_df[boston_df['AGE_GROUP'] == age_groups[0]]['MEDV']\n",
        "group2 = boston_df[boston_df['AGE_GROUP'] == age_groups[1]]['MEDV']\n",
        "group3 = boston_df[boston_df['AGE_GROUP'] == age_groups[2]]['MEDV']\n",
        "\n",
        "# Step 2: Use Levene's test for equality of variance\n",
        "scipy.stats.levene(group1, group2, group3, center='mean')"
      ],
      "execution_count": 52,
      "outputs": [
        {
          "output_type": "stream",
          "text": [
            "Groups: ['35% to 70%' '70% and above' 'Up to 35%']\n"
          ],
          "name": "stdout"
        },
        {
          "output_type": "execute_result",
          "data": {
            "text/plain": [
              "LeveneResult(statistic=2.7806200293748438, pvalue=0.06295337343259205)"
            ]
          },
          "metadata": {
            "tags": []
          },
          "execution_count": 52
        }
      ]
    },
    {
      "cell_type": "markdown",
      "metadata": {
        "id": "SqkQ-RpI3oBA"
      },
      "source": [
        "We observe the p-value of the Levene test is above 0.05 and conclude there is equality of variance between the groups."
      ]
    },
    {
      "cell_type": "code",
      "metadata": {
        "colab": {
          "base_uri": "https://localhost:8080/"
        },
        "id": "FM-pAm8q36Fy",
        "outputId": "cdf6de2c-f56f-46d4-b9ae-8c2b0938dab9"
      },
      "source": [
        "# Step 3: Performing ANOVA \n",
        "f_statistic, p_value = scipy.stats.f_oneway(group1, group2, group3)\n",
        "print(\"F_Statistic: {0}, P-Value: {1}\".format(f_statistic,p_value))"
      ],
      "execution_count": 50,
      "outputs": [
        {
          "output_type": "stream",
          "text": [
            "F_Statistic: 36.40764999196599, P-Value: 1.7105011022702984e-15\n"
          ],
          "name": "stdout"
        }
      ]
    },
    {
      "cell_type": "markdown",
      "metadata": {
        "id": "x8EDoZio3w9R"
      },
      "source": [
        "**Conclusion:**\n",
        "- We observe the p-value is significantly less than the alpha of 0.05, and therefore reject the Null Hypothesis (H0)\n",
        "- We conclude there is significant difference in median value of at least one of the proportions of houses built prior to 1940 (H1)"
      ]
    },
    {
      "cell_type": "markdown",
      "metadata": {
        "id": "wLEl0cZcoLN1"
      },
      "source": [
        "###Can we conclude that there is no relationship between Nitric oxide concentrations and proportion of non-retail business acres per town? (Pearson Correlation)"
      ]
    },
    {
      "cell_type": "markdown",
      "metadata": {
        "id": "hFrbPJJs77i5"
      },
      "source": [
        "**Hypothesis:**\n",
        "- Null Hypothesis (H0): Nitric oxide concentrations are not correlated with the proportion of non-retail business acres per town\n",
        "- Alternative Hypothesis (H1): Nitric oxide concentrations are correlated with the proportion of non-retail business acres per town"
      ]
    },
    {
      "cell_type": "code",
      "metadata": {
        "colab": {
          "base_uri": "https://localhost:8080/"
        },
        "id": "vx7UC6lz77jH",
        "outputId": "ea509007-195d-47fa-be5f-a00ccba4923a"
      },
      "source": [
        "# Both features are continuous; apply Pearson function\n",
        "scipy.stats.pearsonr(boston_df['NOX'], boston_df['INDUS'])"
      ],
      "execution_count": 53,
      "outputs": [
        {
          "output_type": "execute_result",
          "data": {
            "text/plain": [
              "(0.7636514469209154, 7.913361061236894e-98)"
            ]
          },
          "metadata": {
            "tags": []
          },
          "execution_count": 53
        }
      ]
    },
    {
      "cell_type": "markdown",
      "metadata": {
        "id": "DUsnNdsK8Cm5"
      },
      "source": [
        "**Conclusion:**\n",
        "- We observe the p-value is significantly less than the alpha of 0.05, and therefore reject the Null Hypothesis (H0)\n",
        "- We conclude there is a significant positive correlation (relationship) between the nitric oxide concentrations and the proportion of non-retail business acres per town (H1)"
      ]
    },
    {
      "cell_type": "markdown",
      "metadata": {
        "id": "JstAlL3OoRwk"
      },
      "source": [
        "###What is the impact of an additional weighted distance  to the five Boston employment centres on the median value of owner occupied homes? (Regression analysis)"
      ]
    },
    {
      "cell_type": "markdown",
      "metadata": {
        "id": "xPml_TsO-WXv"
      },
      "source": [
        "**Hypothesis:**\n",
        "- Null Hypothesis (H0): There is no correlation (additional weighted distance) between the the Boston employment centres and the median value of owner-occupied homes\n",
        "- Alternative Hypothesis (H1): There is correlation (additional weighted distance) between the Boston employment centres and the median value of owner-occupied homes"
      ]
    },
    {
      "cell_type": "code",
      "metadata": {
        "colab": {
          "base_uri": "https://localhost:8080/"
        },
        "id": "P_xg3kZFHCvD",
        "outputId": "9d159b23-c8de-4bbb-ee8b-356150ac1794"
      },
      "source": [
        "scipy.stats.pearsonr(boston_df['DIS'], boston_df['MEDV'])"
      ],
      "execution_count": 61,
      "outputs": [
        {
          "output_type": "execute_result",
          "data": {
            "text/plain": [
              "(0.2499287340859039, 1.2066117273368017e-08)"
            ]
          },
          "metadata": {
            "tags": []
          },
          "execution_count": 61
        }
      ]
    },
    {
      "cell_type": "code",
      "metadata": {
        "colab": {
          "base_uri": "https://localhost:8080/"
        },
        "id": "eUU-fLwGHgK2",
        "outputId": "32f9ff19-c9de-4094-a8c6-995ea2c2c524"
      },
      "source": [
        "0.062**0.5"
      ],
      "execution_count": 62,
      "outputs": [
        {
          "output_type": "execute_result",
          "data": {
            "text/plain": [
              "0.24899799195977465"
            ]
          },
          "metadata": {
            "tags": []
          },
          "execution_count": 62
        }
      ]
    },
    {
      "cell_type": "code",
      "metadata": {
        "colab": {
          "base_uri": "https://localhost:8080/",
          "height": 387
        },
        "id": "jCKhrGTS-WXx",
        "outputId": "fbdc5521-6c6e-4296-df99-395f7d3e1451"
      },
      "source": [
        "# Performing regression between MEDV and DIS\n",
        "\n",
        "# X is the input variable (explanatory variable)\n",
        "X = boston_df['DIS']\n",
        "\n",
        "# y is the target/dependent variable\n",
        "y = boston_df['MEDV']\n",
        "\n",
        "# add an intercept (beta_0) to our model\n",
        "X = sm.add_constant(X) \n",
        "\n",
        "# Fit the ordinary least squared model, incl prediction\n",
        "model = sm.OLS(y, X).fit()\n",
        "predictions = model.predict(X)\n",
        "\n",
        "# Print out the statistics\n",
        "model.summary()"
      ],
      "execution_count": 80,
      "outputs": [
        {
          "output_type": "execute_result",
          "data": {
            "text/html": [
              "<table class=\"simpletable\">\n",
              "<caption>OLS Regression Results</caption>\n",
              "<tr>\n",
              "  <th>Dep. Variable:</th>          <td>MEDV</td>       <th>  R-squared:         </th> <td>   0.062</td>\n",
              "</tr>\n",
              "<tr>\n",
              "  <th>Model:</th>                   <td>OLS</td>       <th>  Adj. R-squared:    </th> <td>   0.061</td>\n",
              "</tr>\n",
              "<tr>\n",
              "  <th>Method:</th>             <td>Least Squares</td>  <th>  F-statistic:       </th> <td>   33.58</td>\n",
              "</tr>\n",
              "<tr>\n",
              "  <th>Date:</th>             <td>Sun, 17 Jan 2021</td> <th>  Prob (F-statistic):</th> <td>1.21e-08</td>\n",
              "</tr>\n",
              "<tr>\n",
              "  <th>Time:</th>                 <td>07:21:05</td>     <th>  Log-Likelihood:    </th> <td> -1823.9</td>\n",
              "</tr>\n",
              "<tr>\n",
              "  <th>No. Observations:</th>      <td>   506</td>      <th>  AIC:               </th> <td>   3652.</td>\n",
              "</tr>\n",
              "<tr>\n",
              "  <th>Df Residuals:</th>          <td>   504</td>      <th>  BIC:               </th> <td>   3660.</td>\n",
              "</tr>\n",
              "<tr>\n",
              "  <th>Df Model:</th>              <td>     1</td>      <th>                     </th>     <td> </td>   \n",
              "</tr>\n",
              "<tr>\n",
              "  <th>Covariance Type:</th>      <td>nonrobust</td>    <th>                     </th>     <td> </td>   \n",
              "</tr>\n",
              "</table>\n",
              "<table class=\"simpletable\">\n",
              "<tr>\n",
              "    <td></td>       <th>coef</th>     <th>std err</th>      <th>t</th>      <th>P>|t|</th>  <th>[0.025</th>    <th>0.975]</th>  \n",
              "</tr>\n",
              "<tr>\n",
              "  <th>const</th> <td>   18.3901</td> <td>    0.817</td> <td>   22.499</td> <td> 0.000</td> <td>   16.784</td> <td>   19.996</td>\n",
              "</tr>\n",
              "<tr>\n",
              "  <th>DIS</th>   <td>    1.0916</td> <td>    0.188</td> <td>    5.795</td> <td> 0.000</td> <td>    0.722</td> <td>    1.462</td>\n",
              "</tr>\n",
              "</table>\n",
              "<table class=\"simpletable\">\n",
              "<tr>\n",
              "  <th>Omnibus:</th>       <td>139.779</td> <th>  Durbin-Watson:     </th> <td>   0.570</td>\n",
              "</tr>\n",
              "<tr>\n",
              "  <th>Prob(Omnibus):</th> <td> 0.000</td>  <th>  Jarque-Bera (JB):  </th> <td> 305.104</td>\n",
              "</tr>\n",
              "<tr>\n",
              "  <th>Skew:</th>          <td> 1.466</td>  <th>  Prob(JB):          </th> <td>5.59e-67</td>\n",
              "</tr>\n",
              "<tr>\n",
              "  <th>Kurtosis:</th>      <td> 5.424</td>  <th>  Cond. No.          </th> <td>    9.32</td>\n",
              "</tr>\n",
              "</table><br/><br/>Warnings:<br/>[1] Standard Errors assume that the covariance matrix of the errors is correctly specified."
            ],
            "text/plain": [
              "<class 'statsmodels.iolib.summary.Summary'>\n",
              "\"\"\"\n",
              "                            OLS Regression Results                            \n",
              "==============================================================================\n",
              "Dep. Variable:                   MEDV   R-squared:                       0.062\n",
              "Model:                            OLS   Adj. R-squared:                  0.061\n",
              "Method:                 Least Squares   F-statistic:                     33.58\n",
              "Date:                Sun, 17 Jan 2021   Prob (F-statistic):           1.21e-08\n",
              "Time:                        07:21:05   Log-Likelihood:                -1823.9\n",
              "No. Observations:                 506   AIC:                             3652.\n",
              "Df Residuals:                     504   BIC:                             3660.\n",
              "Df Model:                           1                                         \n",
              "Covariance Type:            nonrobust                                         \n",
              "==============================================================================\n",
              "                 coef    std err          t      P>|t|      [0.025      0.975]\n",
              "------------------------------------------------------------------------------\n",
              "const         18.3901      0.817     22.499      0.000      16.784      19.996\n",
              "DIS            1.0916      0.188      5.795      0.000       0.722       1.462\n",
              "==============================================================================\n",
              "Omnibus:                      139.779   Durbin-Watson:                   0.570\n",
              "Prob(Omnibus):                  0.000   Jarque-Bera (JB):              305.104\n",
              "Skew:                           1.466   Prob(JB):                     5.59e-67\n",
              "Kurtosis:                       5.424   Cond. No.                         9.32\n",
              "==============================================================================\n",
              "\n",
              "Warnings:\n",
              "[1] Standard Errors assume that the covariance matrix of the errors is correctly specified.\n",
              "\"\"\""
            ]
          },
          "metadata": {
            "tags": []
          },
          "execution_count": 80
        }
      ]
    },
    {
      "cell_type": "code",
      "metadata": {
        "colab": {
          "base_uri": "https://localhost:8080/"
        },
        "id": "BLzx1n7IObet",
        "outputId": "8cb67f1c-aa86-4aca-91ec-7ac67320069f"
      },
      "source": [
        "print('Slope of the regression model is:', model.params[1])"
      ],
      "execution_count": 85,
      "outputs": [
        {
          "output_type": "stream",
          "text": [
            "Slope of the regression model is: 1.091613015841108\n"
          ],
          "name": "stdout"
        }
      ]
    },
    {
      "cell_type": "markdown",
      "metadata": {
        "id": "h5jHkU04C-yN"
      },
      "source": [
        "**Conclusion:**\n",
        "- We observe the p-value is below the alpha of 0.05 and reject the Null Hypothesis\n",
        "- We conclude there is a positive correlation between the weighted distance between the Boston employment centres and the median value of owner-occupied homes (H1)\n",
        "- The impact of an additional weighted distance between the Boston employment centres and the median value of owner-occupied homes is estimated to be $ 1092 (since the median value is measured in 1000 dollars)"
      ]
    }
  ]
}